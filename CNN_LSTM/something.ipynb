{
 "cells": [
  {
   "cell_type": "code",
   "execution_count": 3,
   "metadata": {},
   "outputs": [],
   "source": [
    "import os\n",
    "import nltk\n",
    "import pickle\n",
    "import numpy as np\n",
    "from PIL import Image\n",
    "import torch\n",
    "import torch.nn as nn \n",
    "import torch.nn.functional as F \n",
    "import torchvision.models as models\n",
    "import torchvision.transforms as transforms\n",
    "from torch.nn.utils.rnn import pack_padded_sequence\n",
    "from collections import Counter\n",
    "import torch.utils.data as data"
   ]
  },
  {
   "cell_type": "code",
   "execution_count": 2,
   "metadata": {},
   "outputs": [
    {
     "name": "stderr",
     "output_type": "stream",
     "text": [
      "[nltk_data] Downloading package punkt to\n",
      "[nltk_data]     C:\\Users\\naman\\AppData\\Roaming\\nltk_data...\n",
      "[nltk_data]   Unzipping tokenizers\\punkt.zip.\n"
     ]
    },
    {
     "data": {
      "text/plain": [
       "True"
      ]
     },
     "execution_count": 2,
     "metadata": {},
     "output_type": "execute_result"
    }
   ],
   "source": [
    "nltk.download('punkt')"
   ]
  },
  {
   "cell_type": "code",
   "execution_count": 6,
   "metadata": {},
   "outputs": [],
   "source": [
    "class Vocab(object):\n",
    "    \"\"\"Simple vocabulary wrapper.\"\"\"\n",
    "    def __init__(self):\n",
    "        self.w2i = {}\n",
    "        self.i2w = {}\n",
    "        self.index = 0\n",
    " \n",
    "    def __call__(self, token):\n",
    "        if not token in self.w2i:\n",
    "            return self.w2i['<unk>']\n",
    "        return self.w2i[token]\n",
    " \n",
    "    def __len__(self):\n",
    "        return len(self.w2i)\n",
    "    def add_token(self, token):\n",
    "        if not token in self.w2i:\n",
    "            self.w2i[token] = self.index\n",
    "            self.i2w[self.index] = token\n",
    "            self.index += 1\n",
    "    \n",
    "    def build_vocabulary(json, threshold):\n",
    "        f = open(json,'r')\n",
    "        print(f)\n",
    "#     counter = Counter()\n",
    "    \n",
    "#     for i, id in enumerate(ids):\n",
    "#         caption = str(coco.anns[id]['caption'])\n",
    "#         tokens = nltk.tokenize.word_tokenize(caption.lower())\n",
    "#         counter.update(tokens)\n",
    " \n",
    "#         if (i+1) % 1000 == 0:\n",
    "#             print(\"[{}/{}] Tokenized the captions.\".format(i+1, len(ids)))\n",
    " \n",
    "#     # If the word frequency is less than 'threshold', then the word is discarded.\n",
    "#     tokens = [token for token, cnt in counter.items() if cnt >= threshold]\n",
    " \n",
    "#     # Create a vocab wrapper and add some special tokens.\n",
    "#     vocab = Vocab()\n",
    "#     vocab.add_token('<pad>')\n",
    "#     vocab.add_token('<start>')\n",
    "#     vocab.add_token('<end>')\n",
    "#     vocab.add_token('<unk>')\n",
    " \n",
    "#     # Add the words to the vocabulary.\n",
    "#     for i, token in enumerate(tokens):\n",
    "#         vocab.add_token(token)\n",
    "#     return vocab\n",
    " \n",
    "# vocab = build_vocabulary(json='data_dir/annotations/captions_train2014.json', threshold=4)\n",
    "# vocab_path = './data_dir/vocabulary.pkl'\n",
    "# with open(vocab_path, 'wb') as f:\n",
    "#     pickle.dump(vocab, f)\n",
    "# print(\"Total vocabulary size: {}\".format(len(vocab)))\n",
    "# print(\"Saved the vocabulary wrapper to '{}'\".format(vocab_path))"
   ]
  },
  {
   "cell_type": "code",
   "execution_count": null,
   "metadata": {},
   "outputs": [],
   "source": [
    "v = Vocab()\n",
    "v.build_vocabulary('',10)"
   ]
  },
  {
   "cell_type": "code",
   "execution_count": null,
   "metadata": {},
   "outputs": [],
   "source": [
    "def reshape_images(image_path, output_path, shape):\n",
    "    images = os.listdir(image_path)\n",
    "    num_in = len(images)\n",
    "    for i ,im in enumerate(images):\n",
    "        with open(os.path.join(image_path, im), 'r+b') as f:\n",
    "            with Image.open(f) as image:\n",
    "                image = reshape_image(image,shape)\n",
    "                image.save(os.path.join(output_path, im), image.format)\n",
    "        \n",
    "        if (i+1) % 100 == 0:\n",
    "            "
   ]
  }
 ],
 "metadata": {
  "kernelspec": {
   "display_name": "base",
   "language": "python",
   "name": "python3"
  },
  "language_info": {
   "codemirror_mode": {
    "name": "ipython",
    "version": 3
   },
   "file_extension": ".py",
   "mimetype": "text/x-python",
   "name": "python",
   "nbconvert_exporter": "python",
   "pygments_lexer": "ipython3",
   "version": "3.12.3"
  }
 },
 "nbformat": 4,
 "nbformat_minor": 2
}
