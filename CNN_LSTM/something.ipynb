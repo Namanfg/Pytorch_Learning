{
 "cells": [
  {
   "cell_type": "code",
   "execution_count": 64,
   "metadata": {},
   "outputs": [],
   "source": [
    "import os\n",
    "import nltk\n",
    "import pickle\n",
    "import numpy as np\n",
    "from PIL import Image\n",
    "import torch\n",
    "import torch.nn as nn \n",
    "import torch.nn.functional as F \n",
    "import torchvision.models as models\n",
    "import torchvision.transforms as transforms\n",
    "from torch.nn.utils.rnn import pack_padded_sequence\n",
    "from collections import Counter\n",
    "from torch.utils.data import Dataset,DataLoader\n",
    "import re"
   ]
  },
  {
   "cell_type": "code",
   "execution_count": 65,
   "metadata": {},
   "outputs": [],
   "source": [
    "# nltk.download()"
   ]
  },
  {
   "cell_type": "code",
   "execution_count": 68,
   "metadata": {},
   "outputs": [
    {
     "name": "stdout",
     "output_type": "stream",
     "text": [
      "Total vocabulary size: 8577\n",
      "Saved the vocabulary wrapper to '.\\data_dir\\vocabulary.pkl'\n"
     ]
    }
   ],
   "source": [
    "class Vocab(object):\n",
    "    \"\"\"Simple vocabulary wrapper.\"\"\"\n",
    "    def __init__(self):\n",
    "        self.w2i = {}\n",
    "        self.i2w = {}\n",
    "        self.index = 0\n",
    "\n",
    "    def __call__(self, token):\n",
    "        return self.w2i.get(token, self.w2i.get('<unk>', 0))\n",
    "\n",
    "    def __len__(self):\n",
    "        return len(self.w2i)\n",
    "\n",
    "    def add_token(self, token):\n",
    "        if token not in self.w2i:\n",
    "            self.w2i[token] = self.index\n",
    "            self.i2w[self.index] = token\n",
    "            self.index += 1\n",
    "\n",
    "    @staticmethod\n",
    "    def build_vocabulary(file_path, threshold):\n",
    "        image_caption = {}\n",
    "        counter = Counter()\n",
    "\n",
    "        with open(file_path, 'r', encoding='utf-8') as f:\n",
    "            for line in f:\n",
    "                if not line.startswith('image'):\n",
    "                    parts = line.split('.jpg')\n",
    "                    if len(parts) < 2:\n",
    "                        continue\n",
    "\n",
    "                    caption = parts[1].lower()\n",
    "                    caption = re.sub(r'[^a-z\\s]', '', caption).strip()\n",
    "\n",
    "                    image_id = parts[0]\n",
    "                    if image_id not in image_caption:\n",
    "                        image_caption[image_id] = [caption]\n",
    "                    else:\n",
    "                        image_caption[image_id].append(caption)\n",
    "\n",
    "                    tokens = nltk.tokenize.word_tokenize(caption)\n",
    "                    counter.update(tokens)\n",
    "\n",
    "        # Filter words based on frequency threshold\n",
    "        tokens = [token for token, cnt in counter.items() if cnt >= threshold]\n",
    "\n",
    "        # Create a vocab wrapper and add special tokens\n",
    "        vocab = Vocab()\n",
    "        vocab.add_token('<pad>')\n",
    "        vocab.add_token('<start>')\n",
    "        vocab.add_token('<end>')\n",
    "        vocab.add_token('<unk>')\n",
    "\n",
    "        # Add the remaining words to vocabulary\n",
    "        for token in tokens:\n",
    "            vocab.add_token(token)\n",
    "\n",
    "        return vocab\n",
    "\n",
    "# Build vocabulary\n",
    "file_path = \"C:\\\\Users\\\\naman\\\\Downloads\\\\flickr30k_images\\\\captions.txt\"\n",
    "vocab = Vocab.build_vocabulary(file_path, threshold=4)\n",
    "\n",
    "# Save vocabulary\n",
    "vocab_path = '.\\\\data_dir\\\\vocabulary.pkl'\n",
    "with open(vocab_path, 'wb') as f:\n",
    "    pickle.dump(vocab, f)\n",
    "\n",
    "print(\"Total vocabulary size: {}\".format(len(vocab)))\n",
    "print(\"Saved the vocabulary wrapper to '{}'\".format(vocab_path))\n"
   ]
  },
  {
   "cell_type": "code",
   "execution_count": 69,
   "metadata": {},
   "outputs": [],
   "source": [
    "transform = transforms.Compose([\n",
    "    transforms.RandomCrop(224),\n",
    "    transforms.RandomHorizontalFlip(), \n",
    "    transforms.ToTensor(),\n",
    "    transforms.Normalize((0.485, 0.456, 0.406),(0.229, 0.224, 0.225))\n",
    "])"
   ]
  }
 ],
 "metadata": {
  "kernelspec": {
   "display_name": "base",
   "language": "python",
   "name": "python3"
  },
  "language_info": {
   "codemirror_mode": {
    "name": "ipython",
    "version": 3
   },
   "file_extension": ".py",
   "mimetype": "text/x-python",
   "name": "python",
   "nbconvert_exporter": "python",
   "pygments_lexer": "ipython3",
   "version": "3.12.3"
  }
 },
 "nbformat": 4,
 "nbformat_minor": 2
}
